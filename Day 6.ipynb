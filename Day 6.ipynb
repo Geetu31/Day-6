{
 "cells": [
  {
   "cell_type": "code",
   "execution_count": null,
   "id": "079f9dc1",
   "metadata": {},
   "outputs": [],
   "source": [
    "Introduction to looping statements.."
   ]
  },
  {
   "cell_type": "code",
   "execution_count": null,
   "id": "d770eff8",
   "metadata": {},
   "outputs": [],
   "source": []
  },
  {
   "cell_type": "code",
   "execution_count": 1,
   "id": "073c15be",
   "metadata": {},
   "outputs": [],
   "source": [
    "students = ['raj','rohan','pooja','aliya','meeta']"
   ]
  },
  {
   "cell_type": "code",
   "execution_count": 2,
   "id": "068d79bf",
   "metadata": {},
   "outputs": [
    {
     "data": {
      "text/plain": [
       "list"
      ]
     },
     "execution_count": 2,
     "metadata": {},
     "output_type": "execute_result"
    }
   ],
   "source": [
    "type(students)"
   ]
  },
  {
   "cell_type": "code",
   "execution_count": 6,
   "id": "18c8ed48",
   "metadata": {},
   "outputs": [
    {
     "name": "stdout",
     "output_type": "stream",
     "text": [
      "keep it up,raj\n"
     ]
    }
   ],
   "source": [
    "print(f\"keep it up,{students[0]}\")"
   ]
  },
  {
   "cell_type": "code",
   "execution_count": 8,
   "id": "d792fc1a",
   "metadata": {},
   "outputs": [
    {
     "name": "stdout",
     "output_type": "stream",
     "text": [
      "keep it up,Raj\n"
     ]
    }
   ],
   "source": [
    "print(f\"keep it up,{students[0].title()}\")"
   ]
  },
  {
   "cell_type": "code",
   "execution_count": 9,
   "id": "52c7dc69",
   "metadata": {},
   "outputs": [
    {
     "name": "stdout",
     "output_type": "stream",
     "text": [
      "keep it up,Rohan\n"
     ]
    }
   ],
   "source": [
    "print(f\"keep it up,{students[1].title()}\")"
   ]
  },
  {
   "cell_type": "code",
   "execution_count": 10,
   "id": "a869af87",
   "metadata": {},
   "outputs": [
    {
     "name": "stdout",
     "output_type": "stream",
     "text": [
      "keep it up,Pooja\n"
     ]
    }
   ],
   "source": [
    "print(f\"keep it up,{students[2].title()}\")"
   ]
  },
  {
   "cell_type": "code",
   "execution_count": null,
   "id": "9533ec42",
   "metadata": {},
   "outputs": [],
   "source": [
    "for tempvar in mainvar\n",
    "print(tempvar)"
   ]
  },
  {
   "cell_type": "code",
   "execution_count": 11,
   "id": "4df1d697",
   "metadata": {},
   "outputs": [
    {
     "name": "stdout",
     "output_type": "stream",
     "text": [
      "keep it up,Raj\n",
      "keep it up,Rohan\n",
      "keep it up,Pooja\n",
      "keep it up,Aliya\n",
      "keep it up,Meeta\n"
     ]
    }
   ],
   "source": [
    "for x in students:\n",
    "    print(f\"keep it up,{x.title()}\")"
   ]
  },
  {
   "cell_type": "code",
   "execution_count": 13,
   "id": "1656f02c",
   "metadata": {},
   "outputs": [
    {
     "name": "stdout",
     "output_type": "stream",
     "text": [
      "keep it up,Raj\n",
      "keep it up,Rohan\n",
      "keep it up,Pooja\n",
      "keep it up,Aliya\n",
      "keep it up,Meeta\n"
     ]
    }
   ],
   "source": [
    "for ironman in students:\n",
    "    print(f\"keep it up,{ironman.title()}\")  #indentation"
   ]
  },
  {
   "cell_type": "code",
   "execution_count": 14,
   "id": "8161ec10",
   "metadata": {},
   "outputs": [
    {
     "name": "stdout",
     "output_type": "stream",
     "text": [
      "keep it up,Raj\n",
      "please submit practice file by today,Raj\n",
      "keep it up,Rohan\n",
      "please submit practice file by today,Rohan\n",
      "keep it up,Pooja\n",
      "please submit practice file by today,Pooja\n",
      "keep it up,Aliya\n",
      "please submit practice file by today,Aliya\n",
      "keep it up,Meeta\n",
      "please submit practice file by today,Meeta\n"
     ]
    }
   ],
   "source": [
    "for x in students:\n",
    "    print(f\"keep it up,{x.title()}\")\n",
    "    print(f\"please submit practice file by today,{x.title()}\")\n",
    "\n",
    "\n",
    "\n",
    "\n"
   ]
  },
  {
   "cell_type": "code",
   "execution_count": 15,
   "id": "6376aa0f",
   "metadata": {},
   "outputs": [
    {
     "name": "stdout",
     "output_type": "stream",
     "text": [
      "keep it up,Raj\n",
      "please submit practice file by today,Raj.\n",
      "\n",
      "keep it up,Rohan\n",
      "please submit practice file by today,Rohan.\n",
      "\n",
      "keep it up,Pooja\n",
      "please submit practice file by today,Pooja.\n",
      "\n",
      "keep it up,Aliya\n",
      "please submit practice file by today,Aliya.\n",
      "\n",
      "keep it up,Meeta\n",
      "please submit practice file by today,Meeta.\n",
      "\n"
     ]
    }
   ],
   "source": [
    "for x in students:\n",
    "    print(f\"keep it up,{x.title()}\")\n",
    "    print(f\"please submit practice file by today,{x.title()}.\\n\")\n",
    "\n"
   ]
  },
  {
   "cell_type": "code",
   "execution_count": 19,
   "id": "9e68737f",
   "metadata": {},
   "outputs": [
    {
     "name": "stdout",
     "output_type": "stream",
     "text": [
      "keep it up,Raj\n",
      "please submit practice file by today,Raj.\n",
      "\n",
      "keep it up,Rohan\n",
      "please submit practice file by today,Rohan.\n",
      "\n",
      "keep it up,Pooja\n",
      "please submit practice file by today,Pooja.\n",
      "\n",
      "keep it up,Aliya\n",
      "please submit practice file by today,Aliya.\n",
      "\n",
      "keep it up,Meeta\n",
      "please submit practice file by today,Meeta.\n",
      "\n",
      "Thank you all\n"
     ]
    }
   ],
   "source": [
    "for x in students:\n",
    "    print(f\"keep it up,{x.title()}\")\n",
    "    print(f\"please submit practice file by today,{x.title()}.\\n\")\n",
    "print(\"Thank you all\")  #out of loop"
   ]
  },
  {
   "cell_type": "code",
   "execution_count": null,
   "id": "3da23ab5",
   "metadata": {},
   "outputs": [],
   "source": []
  }
 ],
 "metadata": {
  "kernelspec": {
   "display_name": "Python 3",
   "language": "python",
   "name": "python3"
  },
  "language_info": {
   "codemirror_mode": {
    "name": "ipython",
    "version": 3
   },
   "file_extension": ".py",
   "mimetype": "text/x-python",
   "name": "python",
   "nbconvert_exporter": "python",
   "pygments_lexer": "ipython3",
   "version": "3.6.13"
  }
 },
 "nbformat": 4,
 "nbformat_minor": 5
}
